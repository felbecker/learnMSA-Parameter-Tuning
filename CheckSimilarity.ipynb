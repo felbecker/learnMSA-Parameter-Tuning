{
 "cells": [
  {
   "cell_type": "markdown",
   "id": "ea579be8-249e-4861-8d7a-1bef9218e9ba",
   "metadata": {},
   "source": [
    "# Check overlap of HomFam and Balifam"
   ]
  },
  {
   "cell_type": "code",
   "execution_count": 13,
   "id": "e1802b97-4134-4da3-aefd-47a7bce6ce4a",
   "metadata": {},
   "outputs": [],
   "source": [
    "import os\n",
    "import pandas as pd"
   ]
  },
  {
   "cell_type": "code",
   "execution_count": 2,
   "id": "4a187084-ad77-4faa-bcce-9f05fd53cc20",
   "metadata": {},
   "outputs": [],
   "source": [
    "mmseqs = \"/home/jovyan/bin/mmseqs2/mmseqs/bin/mmseqs\""
   ]
  },
  {
   "cell_type": "code",
   "execution_count": 2,
   "id": "ca55293f-3fd6-434d-9a0b-08254a14ece2",
   "metadata": {},
   "outputs": [
    {
     "name": "stdout",
     "output_type": "stream",
     "text": [
      "usage: mmseqs easy-search <i:queryFastaFile1[.gz|.bz2]> ... <i:queryFastaFileN[.gz|.bz2]>|<i:stdin> <i:targetFastaFile[.gz]>|<i:targetDB> <o:alignmentFile> <tmpDir> [options]\n",
      "options:                              \n",
      " -s FLOAT                      Sensitivity: 1.0 faster; 4.0 fast; 7.5 sensitive [5.700]\n",
      " --max-seqs INT                Maximum results per query sequence allowed to pass the prefilter (affects sensitivity) [300]\n",
      "                             \n",
      " --alignment-mode INT          How to compute the alignment:\n",
      "                               0: automatic\n",
      "                               1: only score and end_pos\n",
      "                               2: also start_pos and cov\n",
      "                               3: also seq.id\n",
      "                               4: only ungapped alignment [3]\n",
      " --alignment-output-mode INT   How to compute the alignment:\n",
      "                               0: automatic\n",
      "                               1: only score and end_pos\n",
      "                               2: also start_pos and cov\n",
      "                               3: also seq.id\n",
      "                               4: only ungapped alignment\n",
      "                               5: score only (output) cluster format [0]\n",
      " --min-seq-id FLOAT            List matches above this sequence identity (for clustering) (range 0.0-1.0) [0.000]\n",
      " --min-aln-len INT             Minimum alignment length (range 0-INT_MAX) [0]\n",
      " --seq-id-mode INT             0: alignment length 1: shorter, 2: longer sequence [0]\n",
      " --alt-ali INT                 Show up to this many alternative alignments [0]\n",
      " -c FLOAT                      List matches above this fraction of aligned (covered) residues (see --cov-mode) [0.000]\n",
      " --cov-mode INT                0: coverage of query and target\n",
      "                               1: coverage of target\n",
      "                               2: coverage of query\n",
      "                               3: target seq. length has to be at least x% of query length\n",
      "                               4: query seq. length has to be at least x% of target length\n",
      "                               5: short seq. needs to be at least x% of the other seq. length [0]\n",
      " --max-accept INT              Maximum accepted alignments before alignment calculation for a query is stopped [2147483647]\n",
      "                             \n",
      " --num-iterations INT          Number of iterative profile search iterations [1]\n",
      "                             \n",
      " --taxon-list STR              Taxonomy ID, possibly multiple values separated by ',' []\n",
      " --search-type INT             Search type 0: auto 1: amino acid, 2: translated, 3: nucleotide, 4: translated nucleotide alignment [0]\n",
      " --start-sens FLOAT            Start sensitivity [4.000]\n",
      " --sens-steps INT              Number of search steps performed from --start-sens to -s [1]\n",
      " --format-mode INT             Output format:\n",
      "                               0: BLAST-TAB\n",
      "                               1: SAM\n",
      "                               2: BLAST-TAB + query/db length\n",
      "                               3: Pretty HTML\n",
      "                               4: BLAST-TAB + column headers\n",
      "                               BLAST-TAB (0) and BLAST-TAB + column headers (4) support custom output formats (--format-output) [0]\n",
      " --format-output STR           Choose comma separated list of output columns from: query,target,evalue,gapopen,pident,fident,nident,qstart,qend,qlen\n",
      "                               tstart,tend,tlen,alnlen,raw,bits,cigar,qseq,tseq,qheader,theader,qaln,taln,qframe,tframe,mismatch,qcov,tcov\n",
      "                               qset,qsetid,tset,tsetid,taxid,taxname,taxlineage,qorfstart,qorfend,torfstart,torfend [query,target,fident,alnlen,mismatch,gapopen,qstart,qend,tstart,tend,evalue,bits]\n",
      " --greedy-best-hits BOOL       Choose the best hits greedily to cover the query [0]\n",
      "                             \n",
      " --threads INT                 Number of CPU-cores used (all by default) [32]\n",
      " --compressed INT              Write compressed output [0]\n",
      " -v INT                        Verbosity level: 0: quiet, 1: +errors, 2: +warnings, 3: +info [3]\n",
      "\n",
      "examples:\n",
      " # Search multiple FASTA against FASTA (like BLASTP, TBLASTN, BLASTX, BLASTN --search-type 3, TBLASTX --search-type 2)\n",
      " mmseqs easy-search examples/QUERY.fasta examples/QUERY.fasta examples/DB.fasta result.m8 tmp\n",
      " \n",
      " # Iterative profile search from stdin (like PSI-BLAST)\n",
      " cat examples/QUERY.fasta | mmseqs easy-search stdin examples/DB.fasta result.m8 tmp --num-iterations 2\n",
      " \n",
      " # Profile search against small databases (e.g. PFAM, eggNOG)\n",
      " mmseqs databases PFAM pfam_db tmp\n",
      " mmseqs easy-search examples/QUERY.fasta pfam_db res.m8 tmp\n",
      " \n",
      " # Exhaustive search against sequences or profiles (works for large DBs)\n",
      " mmseqs easy-search examples/QUERY.fasta targetProfiles res.m8 tmp --exhaustive-search\n",
      " \n",
      " # Increasing sensitivity search (from 2 to 7 in 3 steps)\n",
      " mmseqs easy-search examples/QUERY.fasta examples/DB.fasta result.m8 tmp --start-sens 2 -s 7 --sens-steps 3\n",
      " \n",
      "references:\n",
      " - Steinegger M, Soding J: MMseqs2 enables sensitive protein sequence searching for the analysis of massive data sets. Nature Biotechnology, 35(11), 1026-1028 (2017)\n",
      " - Mirdita M, Steinegger M, Soding J: MMseqs2 desktop and local web server app for fast, interactive sequence searches. Bioinformatics, 35(16), 2856–2858 (2019)\n",
      "\n",
      "Show an extended list of options by calling 'mmseqs easy-search -h'.\n",
      "\u001b[31mNot enough input paths provided. \u001b[39m\u001b[31m4 paths are required.\n",
      "\u001b[39m"
     ]
    }
   ],
   "source": [
    "!{mmseqs} easy-search"
   ]
  },
  {
   "cell_type": "code",
   "execution_count": 3,
   "id": "38f476db-1335-4af1-b070-5aa6fe8a8ab5",
   "metadata": {},
   "outputs": [
    {
     "name": "stdout",
     "output_type": "stream",
     "text": [
      "rm: cannot remove 'tmp': No such file or directory\n",
      "rm: cannot remove 'sim/*': No such file or directory\n"
     ]
    }
   ],
   "source": [
    "!rm -r tmp\n",
    "!rm sim/*"
   ]
  },
  {
   "cell_type": "code",
   "execution_count": null,
   "id": "952e4a9e-3931-4179-a531-325e6e910291",
   "metadata": {},
   "outputs": [],
   "source": [
    "data_path = \"../MSA-HMM-Analysis/data/\"\n",
    "homfam_path = data_path+\"homfam/refs/\"\n",
    "balifam_path = data_path+\"balifam100/refs/\"\n",
    "#search all pairs\n",
    "for query_file in os.listdir(homfam_path):\n",
    "    if query_file.endswith(\".ref\"):\n",
    "        query_family = \".\".join(query_file.split(\".\")[:-1])\n",
    "        for target_file in os.listdir(balifam_path):\n",
    "            if target_file.endswith(\".ref\"):\n",
    "                target_family = \".\".join(target_file.split(\".\")[:-1])\n",
    "                !{mmseqs} easy-search {homfam_path}{query_file} {balifam_path}{target_file} sim/{query_family}_vs_{target_family}.m8 tmp -v 0"
   ]
  },
  {
   "cell_type": "code",
   "execution_count": 7,
   "id": "4c97d6e9-7d4b-4126-92b1-b79512592c37",
   "metadata": {},
   "outputs": [],
   "source": [
    "#delete all empty files\n",
    "!find sim -type f -empty -delete"
   ]
  },
  {
   "cell_type": "code",
   "execution_count": 8,
   "id": "1dc1e8dc-659e-4330-b451-e9a1d5386988",
   "metadata": {},
   "outputs": [
    {
     "name": "stdout",
     "output_type": "stream",
     "text": [
      "aat_vs_PF00155.100.m8\t   hom_vs_PF00046.100.m8\n",
      "aat_vs_PF00202.100.m8\t   il8_vs_PF00048.100.m8\n",
      "az_vs_PF00127.100.m8\t   kringle_vs_PF00051.100.m8\n",
      "cah_vs_PF00194.100.m8\t   ltn_vs_PF00139.100.m8\n",
      "cyt3_vs_PF02085.100.m8\t   myb_DNA-binding_vs_PF00538.100.m8\n",
      "ghf10_vs_PF00232.100.m8    myb_DNA-binding_vs_PF11427.100.m8\n",
      "ghf1_vs_PF00150.100.m8\t   rvp_vs_PF00077.100.m8\n",
      "ghf1_vs_PF00232.100.m8\t   sdr_vs_PF13561.100.m8\n",
      "ghf5_vs_PF00150.100.m8\t   serpin_vs_PF00079.100.m8\n",
      "gluts_vs_PF14497.100.m8    sodfe_vs_PF02777.100.m8\n",
      "hip_vs_PF01355.100.m8\t   tgfb_vs_PF00150.100.m8\n",
      "HMG_box_vs_PF00505.100.m8  trfl_vs_PF00405.100.m8\n",
      "HMG_box_vs_PF09011.100.m8  tRNA-synt_2b_vs_PF13393.100.m8\n"
     ]
    }
   ],
   "source": [
    "!ls sim"
   ]
  },
  {
   "cell_type": "code",
   "execution_count": 12,
   "id": "b5a4330d-34a8-460a-9b18-4633219b2f51",
   "metadata": {},
   "outputs": [
    {
     "name": "stdout",
     "output_type": "stream",
     "text": [
      "1ama\tAATM_BOVIN\t0.598\t500\t151\t0\t92\t467\t10\t509\t6.463E-130\t415\n",
      "1ama\tAAT1_MEDSA\t0.416\t500\t219\t0\t92\t467\t10\t509\t4.398E-65\t225\n",
      "1ama\tAAT1_ARATH\t0.432\t467\t195\t0\t123\t467\t43\t509\t2.043E-64\t223\n",
      "1ama\tAAT4_ARATH\t0.389\t448\t207\t0\t97\t435\t16\t463\t1.381E-54\t194\n",
      "1ama\tAAT5_ARATH\t0.387\t500\t230\t0\t92\t467\t10\t509\t1.109E-51\t185\n",
      "1ama\t1ajs_A\t0.376\t420\t194\t0\t123\t434\t43\t462\t4.217E-50\t181\n",
      "1ama\tAATC_CAEEL\t0.338\t412\t205\t0\t97\t407\t16\t427\t5.423E-42\t156\n",
      "1ama\tAATC_YEAST\t0.340\t476\t235\t0\t111\t467\t34\t509\t5.183E-39\t147\n",
      "1ama\tAAT_HAEIN\t0.356\t468\t222\t0\t122\t467\t42\t509\t5.988E-37\t141\n",
      "1ama\tAAT_PSEAE\t0.342\t425\t210\t0\t114\t433\t37\t461\t7.137E-34\t131\n"
     ]
    }
   ],
   "source": [
    "!head sim/aat_vs_PF00155.100.m8"
   ]
  },
  {
   "cell_type": "code",
   "execution_count": 32,
   "id": "4f7b22d6-8778-4071-843d-3aa6b68c3ee8",
   "metadata": {},
   "outputs": [
    {
     "data": {
      "text/plain": [
       "5"
      ]
     },
     "execution_count": 32,
     "metadata": {},
     "output_type": "execute_result"
    }
   ],
   "source": [
    "\"test_vs_gsah\""
   ]
  },
  {
   "cell_type": "code",
   "execution_count": 52,
   "id": "ac0579bd-f009-47d1-8453-c8cd02d7a2d7",
   "metadata": {},
   "outputs": [
    {
     "name": "stdout",
     "output_type": "stream",
     "text": [
      "sdr_vs_PF13561.100.m8 0.688\n",
      "gluts_vs_PF14497.100.m8 0.575\n",
      "serpin_vs_PF00079.100.m8 0.299\n",
      "hip_vs_PF01355.100.m8 0.932\n",
      "il8_vs_PF00048.100.m8 0.733\n",
      "tRNA-synt_2b_vs_PF13393.100.m8 0.399\n",
      "ghf5_vs_PF00150.100.m8 0.662\n",
      "ghf10_vs_PF00232.100.m8 0.448\n",
      "hom_vs_PF00046.100.m8 0.68\n",
      "cah_vs_PF00194.100.m8 0.788\n",
      "myb_DNA-binding_vs_PF11427.100.m8 0.928\n",
      "trfl_vs_PF00405.100.m8 0.428\n",
      "HMG_box_vs_PF00505.100.m8 0.312\n",
      "ghf1_vs_PF00150.100.m8 0.272\n",
      "HMG_box_vs_PF09011.100.m8 0.312\n",
      "sodfe_vs_PF02777.100.m8 0.468\n",
      "aat_vs_PF00202.100.m8 0.685\n",
      "ltn_vs_PF00139.100.m8 0.93\n",
      "tgfb_vs_PF00150.100.m8 0.476\n",
      "aat_vs_PF00155.100.m8 0.598\n",
      "cyt3_vs_PF02085.100.m8 0.735\n",
      "ghf1_vs_PF00232.100.m8 0.521\n",
      "az_vs_PF00127.100.m8 0.816\n",
      "kringle_vs_PF00051.100.m8 0.416\n",
      "myb_DNA-binding_vs_PF00538.100.m8 0.419\n",
      "rvp_vs_PF00077.100.m8 0.697\n",
      "balifam families with at least one sequence that is at least 50% similar to one sequence in a homfam dataset:\n",
      " ['PF13561.100', 'PF14497.100', 'PF01355.100', 'PF00048.100', 'PF00150.100', 'PF00046.100', 'PF00194.100', 'PF11427.100', 'PF00202.100', 'PF00139.100', 'PF00155.100', 'PF02085.100', 'PF00232.100', 'PF00127.100', 'PF00077.100']\n"
     ]
    }
   ],
   "source": [
    "balifam100_redundant = []\n",
    "for file in os.listdir(\"sim\"):\n",
    "    if not file.endswith(\".m8\"):\n",
    "        continue\n",
    "    df = pd.read_csv(\"sim/\"+file, sep=\"\\t\", header=None)\n",
    "    max_seq_id = df[2][0]\n",
    "    print(file, max_seq_id)\n",
    "    if max_seq_id >= 0.5:\n",
    "        balifam_id = os.path.splitext(file[file.find(\"_vs_\")+4:])[0]\n",
    "        balifam100_redundant.append(balifam_id)\n",
    "print(\"balifam families with at least one sequence that is at least 50% similar to one sequence in a homfam dataset:\\n\", balifam100_redundant)      "
   ]
  },
  {
   "cell_type": "code",
   "execution_count": 53,
   "id": "6c61b774-d599-4415-8f44-b4312e2eaa8c",
   "metadata": {},
   "outputs": [
    {
     "data": {
      "text/plain": [
       "(36, 30)"
      ]
     },
     "execution_count": 53,
     "metadata": {},
     "output_type": "execute_result"
    }
   ],
   "source": [
    "#check how many of the redundant families are also in balifam10000 and how many families would be left for testing\n",
    "num_total = 0\n",
    "balifam10000_non_redundant = []\n",
    "for file in os.listdir(\"../MSA-HMM-Analysis/data/balifam10000/refs/\"):\n",
    "    if file.endswith(\".ref\"):\n",
    "        family = \".\".join(file.split(\".\")[:-1])\n",
    "        num_total += 1\n",
    "        if not family[:-2] in balifam100_redundant:\n",
    "            balifam10000_non_redundant.append(family)\n",
    "num_total, len(balifam10000_non_redundant)"
   ]
  },
  {
   "cell_type": "code",
   "execution_count": 54,
   "id": "491cd435-6a00-4a7f-9153-185750712f87",
   "metadata": {},
   "outputs": [],
   "source": [
    "#write the non-redundant balifam set to file\n",
    "with open(\"balifam10000_no_homfam_redundance.txt\", \"w\") as file:\n",
    "    for i in balifam10000_non_redundant:\n",
    "        file.write(i+\"\\n\")"
   ]
  },
  {
   "cell_type": "code",
   "execution_count": null,
   "id": "35282bd5-57b8-4d35-9e0d-270c2f0d8f13",
   "metadata": {},
   "outputs": [],
   "source": []
  }
 ],
 "metadata": {
  "kernelspec": {
   "display_name": "Python 3",
   "language": "python",
   "name": "python3"
  },
  "language_info": {
   "codemirror_mode": {
    "name": "ipython",
    "version": 3
   },
   "file_extension": ".py",
   "mimetype": "text/x-python",
   "name": "python",
   "nbconvert_exporter": "python",
   "pygments_lexer": "ipython3",
   "version": "3.9.2"
  }
 },
 "nbformat": 4,
 "nbformat_minor": 5
}
